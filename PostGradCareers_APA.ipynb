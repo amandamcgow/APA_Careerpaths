{
 "cells": [
  {
   "cell_type": "code",
   "execution_count": 7,
   "id": "890274f9",
   "metadata": {},
   "outputs": [],
   "source": [
    "# define function\n",
    "def genSankey(df,cat_cols=[],value_cols='',title='Sankey Diagram'):\n",
    "    # maximum of 6 value cols -> 6 colors\n",
    "    colorPalette = ['#1E88E5','#D81B60','#FFC107',] # colorblind palette\n",
    "    labelList = []\n",
    "    colorNumList = []\n",
    "    for catCol in cat_cols:\n",
    "        labelListTemp =  list(set(df[catCol].values))\n",
    "        colorNumList.append(len(labelListTemp))\n",
    "        labelList = labelList + labelListTemp\n",
    "        \n",
    "    # remove duplicates from labelList\n",
    "    labelList = list(dict.fromkeys(labelList))\n",
    "    \n",
    "    # define colors based on number of levels\n",
    "    colorList = []\n",
    "    for idx, colorNum in enumerate(colorNumList):\n",
    "        colorList = colorList + [colorPalette[idx]]*colorNum\n",
    "        \n",
    "    # transform df into a source-target pair\n",
    "    for i in range(len(cat_cols)-1):\n",
    "        if i==0:\n",
    "            sourceTargetDf = df[[cat_cols[i],cat_cols[i+1],value_cols]]\n",
    "            sourceTargetDf.columns = ['source','target','count']\n",
    "        else:\n",
    "            tempDf = df[[cat_cols[i],cat_cols[i+1],value_cols]]\n",
    "            tempDf.columns = ['source','target','count']\n",
    "            sourceTargetDf = pd.concat([sourceTargetDf,tempDf])\n",
    "        sourceTargetDf = sourceTargetDf.groupby(['source','target']).agg({'count':'sum'}).reset_index()\n",
    "        \n",
    "    # add index for source-target pair\n",
    "    sourceTargetDf['sourceID'] = sourceTargetDf['source'].apply(lambda x: labelList.index(x))\n",
    "    sourceTargetDf['targetID'] = sourceTargetDf['target'].apply(lambda x: labelList.index(x))\n",
    "    \n",
    "    # creating the sankey diagram\n",
    "    data = dict(\n",
    "        type='sankey',\n",
    "        node = dict(\n",
    "          pad = 15,\n",
    "          thickness = 20,\n",
    "          line = dict(\n",
    "            color = \"black\",\n",
    "            width = 0.5\n",
    "          ),\n",
    "          label = labelList,\n",
    "          color = colorList\n",
    "        ),\n",
    "        link = dict(\n",
    "          source = sourceTargetDf['sourceID'],\n",
    "          target = sourceTargetDf['targetID'],\n",
    "          value = sourceTargetDf['count']\n",
    "        )\n",
    "      )\n",
    "    \n",
    "    layout =  dict(\n",
    "        title = title,\n",
    "        font = dict(\n",
    "          size = 10\n",
    "        )\n",
    "    )\n",
    "       \n",
    "    fig = dict(data=[data], layout=layout)\n",
    "    return fig"
   ]
  },
  {
   "cell_type": "code",
   "execution_count": 8,
   "id": "298d4847",
   "metadata": {},
   "outputs": [],
   "source": [
    "# import packages\n",
    "import pandas as pd\n",
    "import plotly\n",
    "import plotly as py\n",
    "\n"
   ]
  },
  {
   "cell_type": "code",
   "execution_count": 9,
   "id": "179eec74",
   "metadata": {},
   "outputs": [],
   "source": [
    "# read in dataframe and subset dataframe\n",
    "df = pd.read_csv(\"postgradcareers.csv\")"
   ]
  },
  {
   "cell_type": "code",
   "execution_count": 5,
   "id": "de89f216",
   "metadata": {},
   "outputs": [
    {
     "data": {
      "text/html": [
       "<div>\n",
       "<style scoped>\n",
       "    .dataframe tbody tr th:only-of-type {\n",
       "        vertical-align: middle;\n",
       "    }\n",
       "\n",
       "    .dataframe tbody tr th {\n",
       "        vertical-align: top;\n",
       "    }\n",
       "\n",
       "    .dataframe thead th {\n",
       "        text-align: right;\n",
       "    }\n",
       "</style>\n",
       "<table border=\"1\" class=\"dataframe\">\n",
       "  <thead>\n",
       "    <tr style=\"text-align: right;\">\n",
       "      <th></th>\n",
       "      <th>lvl1</th>\n",
       "      <th>lvl2</th>\n",
       "      <th>lvl3</th>\n",
       "      <th>count</th>\n",
       "    </tr>\n",
       "  </thead>\n",
       "  <tbody>\n",
       "    <tr>\n",
       "      <th>0</th>\n",
       "      <td>PhD/Professional degree in Psychology</td>\n",
       "      <td>Social &amp; Related Scientists</td>\n",
       "      <td>Psychologist</td>\n",
       "      <td>92600</td>\n",
       "    </tr>\n",
       "    <tr>\n",
       "      <th>1</th>\n",
       "      <td>PhD/Professional degree in Psychology</td>\n",
       "      <td>Social &amp; Related Scientists</td>\n",
       "      <td>Postsecondary teacher: psychology &amp; other</td>\n",
       "      <td>26600</td>\n",
       "    </tr>\n",
       "    <tr>\n",
       "      <th>2</th>\n",
       "      <td>PhD/Professional degree in Psychology</td>\n",
       "      <td>Social &amp; Related Scientists</td>\n",
       "      <td>Other social scientists</td>\n",
       "      <td>7300</td>\n",
       "    </tr>\n",
       "    <tr>\n",
       "      <th>3</th>\n",
       "      <td>PhD/Professional degree in Psychology</td>\n",
       "      <td>Science &amp; Engineering Related Occupations</td>\n",
       "      <td>Medical and health services managers</td>\n",
       "      <td>7200</td>\n",
       "    </tr>\n",
       "    <tr>\n",
       "      <th>4</th>\n",
       "      <td>PhD/Professional degree in Psychology</td>\n",
       "      <td>Science &amp; Engineering Related Occupations</td>\n",
       "      <td>Diagnosing/treating practitioner</td>\n",
       "      <td>3200</td>\n",
       "    </tr>\n",
       "  </tbody>\n",
       "</table>\n",
       "</div>"
      ],
      "text/plain": [
       "                                    lvl1  \\\n",
       "0  PhD/Professional degree in Psychology   \n",
       "1  PhD/Professional degree in Psychology   \n",
       "2  PhD/Professional degree in Psychology   \n",
       "3  PhD/Professional degree in Psychology   \n",
       "4  PhD/Professional degree in Psychology   \n",
       "\n",
       "                                        lvl2  \\\n",
       "0                Social & Related Scientists   \n",
       "1                Social & Related Scientists   \n",
       "2                Social & Related Scientists   \n",
       "3  Science & Engineering Related Occupations   \n",
       "4  Science & Engineering Related Occupations   \n",
       "\n",
       "                                        lvl3  count  \n",
       "0                               Psychologist  92600  \n",
       "1  Postsecondary teacher: psychology & other  26600  \n",
       "2                    Other social scientists   7300  \n",
       "3       Medical and health services managers   7200  \n",
       "4           Diagnosing/treating practitioner   3200  "
      ]
     },
     "execution_count": 5,
     "metadata": {},
     "output_type": "execute_result"
    }
   ],
   "source": [
    "# check df\n",
    "df.head()"
   ]
  },
  {
   "cell_type": "code",
   "execution_count": 10,
   "id": "c5c65754",
   "metadata": {},
   "outputs": [
    {
     "data": {
      "text/plain": [
       "'temp-plot.html'"
      ]
     },
     "execution_count": 10,
     "metadata": {},
     "output_type": "execute_result"
    }
   ],
   "source": [
    "# make sankey diagram\n",
    "fig = genSankey(df,cat_cols=['lvl1','lvl2','lvl3'],value_cols='count',title='Postgraduate Careerpaths')\n",
    "plotly.offline.plot(fig, validate=False)"
   ]
  },
  {
   "cell_type": "code",
   "execution_count": null,
   "id": "102d712f",
   "metadata": {},
   "outputs": [],
   "source": [
    "# source data \n",
    "#https://www.apa.org/workforce/data-tools/careers-psychology"
   ]
  },
  {
   "cell_type": "code",
   "execution_count": 17,
   "id": "af817893",
   "metadata": {},
   "outputs": [
    {
     "data": {
      "text/plain": [
       "'temp-plot.html'"
      ]
     },
     "execution_count": 17,
     "metadata": {},
     "output_type": "execute_result"
    }
   ],
   "source": [
    "# save as vector diagram for further editing in illustrator\n",
    "fig = genSankey(df,cat_cols=['lvl1','lvl2','lvl3'],value_cols='count',title='Postgraduate Careerpaths')\n",
    "plotly.offline.plot(fig, validate=False, image_filename='postgrad_career', image='svg', image_width = 1900, image_height=1900)"
   ]
  },
  {
   "cell_type": "code",
   "execution_count": null,
   "id": "6a450151",
   "metadata": {},
   "outputs": [],
   "source": []
  }
 ],
 "metadata": {
  "kernelspec": {
   "display_name": "Python 3 (ipykernel)",
   "language": "python",
   "name": "python3"
  },
  "language_info": {
   "codemirror_mode": {
    "name": "ipython",
    "version": 3
   },
   "file_extension": ".py",
   "mimetype": "text/x-python",
   "name": "python",
   "nbconvert_exporter": "python",
   "pygments_lexer": "ipython3",
   "version": "3.9.13"
  }
 },
 "nbformat": 4,
 "nbformat_minor": 5
}
